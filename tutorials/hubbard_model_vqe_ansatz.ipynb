{
 "cells": [
  {
   "cell_type": "markdown",
   "id": "8b70999a",
   "metadata": {},
   "source": [
    "An Ansatz for the Hubbard Model\n",
    "===========================\n",
    "\n",
    "Prerequisites: OpenFermion, Qiskit, SciPy (which will pull in NumPy), and matplotlib, e.g. install with pip:\n",
    "\n",
    "`$ python -m pip install qiskit openfermion scipy matplotlib`"
   ]
  },
  {
   "cell_type": "markdown",
   "id": "98a5ddca",
   "metadata": {},
   "source": [
    "Introduction\n",
    "--------------\n",
    "\n",
    "This tutorial discusses possible Ansätze for use with the _Variational Quantum Eigensolver_ (VQE) algorithm to find the ground state for configurations of the __[Hubbard Model](hubbard_model_intro.ipynb)__ (HM). VQE uses a classical optimizer to suggest trial states and a quantum chip to calculate the expectation values of the Hamiltonian at those states. This process iterates, with the optimizer refining the trial state until a minimum is found, which provides an upper bound to the ground state of the Hamiltonian.\n",
    "\n",
    "An _Ansatz_ is a parametrized description of quantum states, covering in effect a subset of the full Hilbert space. It is used in VQE to reduce the total search space by considering only those states that satisfy the constraints to which a potential solution has to conform, e.g. states that have the correct symmetries, number of particles, parity, etc. An Ansatz can also be used to simplify the problem: resolving symmetries can remove parameters, drop physical but unlikely solutions (e.g. those with higher excitations), or only restrict trial states to ones that can be easily constructed with the native gate set of the hardware. Such simplification may mean that the exact solution can not be found, because the Ansatz can not describe it. However, VQE by design provides an upper limit to the ground state, thus even an inexact solution can be useful, for example as a stepping stone to refinement of the problem specification.\n",
    "\n",
    "Ansatz design is (still) an art and the best approach depends on the specific problem (e.g. because of its symmetries) and hardware used (e.g. because of connectivity or specialized gates). The discussion below is therefore meant to be read within the context of the Hubbard Model tutorial and whereas the methods can be applied to other problems, the conclusions are most certainly _not_ portable."
   ]
  },
  {
   "cell_type": "markdown",
   "id": "191cdabe",
   "metadata": {},
   "source": [
    "## Unitary Coupled Cluster Ansatz\n",
    "\n",
    "The Unitary Coupled Cluster (UCC) Ansatz originates from the coupled cluster numerical method$^1$ as used in quantum chemistry. Electrons affect each other because they are negatively charged and like-charged particles repel. Their movements are thus correlated and can not be considered as independent. The coupled cluster method builds on multi-electron wave functions to capture the electron correlations and their effect on energy levels. Here, we consider only single (S) and double (D) excitations in the UCC Ansatz, or UCCSD for short:\n",
    "\n",
    "<p>\\begin{equation*}\n",
    "    T(\\vec{\\theta}) = \\sum_{ij} \\theta_{ij} a_i^\\dagger a_j + \\frac{1}{2}\\sum_{ijkl} \\theta_{ijkl}a_i^\\dagger a_j^\\dagger a_k a_l\n",
    "\\end{equation*}\n",
    "</p>\n",
    "\n",
    "where $\\vec{\\theta}$ represents the vector of optimization parameters, describing amplitudes for the single (first sum) and double (second sum) excitations. Their interpretation is rather straightforward: single excitations are movements of single electrons from one occupied to one unoccupied site (compare the hopping term in the Hubbard Model); double excitations are correlated movements of two electrons from two occupied to two unoccupied sites.$^2$\n",
    "\n",
    "The Ansatz is then implemented as an evolution operator, allowing an initial state of electrons in well defined positions $|\\psi_0\\rangle$, which is simple to construct (e.g. in the case of a Jordan-Wigner mapping, this is a simple matter of flipping a number of qubits equal to the number of electrons from the computational basis state $|0\\rangle$ to $|1\\rangle$ using an X-gate, see the __[Hubbard Model](hubbard_model_intro.ipynb)__ notebook), to evolve to the parametrized _trial wave function_:\n",
    "<p>\\begin{equation*}\n",
    "    U(\\vec{\\theta}) |\\psi_0\\rangle = e^{i({T(\\vec{\\theta}) - T^\\dagger(\\vec{\\theta})})}|\\psi_0\\rangle\n",
    "\\end{equation*}\n",
    "</p>\n",
    "\n",
    "Since all excitations are by design reversible (simply move the electrons back to the original sites), only a single step of size `1` needs to be considered in the construction of the evolution operator, with the parameters $\\vec{\\theta}$ capturing the precise evolution step size required to reach the ground state. When the expectation value of the Hamiltonian on a trial wave function, given some $\\vec{\\theta}$, reaches the global minimum, then that state represents (or is an upper bound to) the ground state.\n",
    "\n",
    "### Qiskit UCCSD\n",
    "\n",
    "The _general_ UCCSD Ansatz in Qiskit$^3$ constructs a circuit parametrized with rotation gates for the classical minimizer in VQE to optimize. As a practical matter, this general implementation is not a good match for the Hubbard Model used in this tutorial, because it does not capture all symmetries, resulting in more optimization parameters than necessary and in dependencies between the parameters. Such dependencies manifest themselves as saddle points in the localized surface as seen by the minimizer, because changes in one parameter can be undone with equivalent changes in another. Combined with their periodicity $(-\\pi, \\pi)$; all being rotations), saddle points become local minima where the minimizer can get trapped. (Note that this is much less of a problem for solving molecular problems as these usually have a good initial starting point from classical approximations.)\n",
    "\n",
    "VQE Ansätze in Qiskit are designed as callbacks, with Qiskit taking over the main loop. This allows submission of the full algorithm (quantum _and_ classical) as a single job. However, within the context of this tutorial, it is more convenient to keep the loop and the Ansatz (in the form of an objective function) implementation accessible, such that it is easy to modify and see test in simulation. Thus, for purely practical reasons, a different approach here is preferred here.\n",
    "\n",
    "If you're interested, however, a complete example implementation can be found __[here](hubbard_vqe_qiskit_ansatz.py)__. (Note that it requires the `qiskit_nature` package in addition to the prerequisites mentioned above.)\n",
    "\n",
    "### OpenFermion UCCSD\n",
    "\n",
    "The OpenFermion implementation of UCCSD lets the minimizer choose the amplitudes (as expressed in the equation above) directly, which captures the symmetries in the HM better, leading to fewer parameters. Note that the two approaches are mathematically equivalent, as the relative amplitudes are what matter, which in a circuit become relative phase differences, setup by rotations. The amplitudes are not periodic, which further greatly simplifies the optimization surface and simplifies the use of bounds.\n",
    "\n",
    "In what follows, we will only use the OpenFermion implementation of UCCSD.\n",
    "\n",
    "<div class=\"alert alert-block alert-info\">\n",
    "<b>Note:</b> Although there are some issues here specific to the HM, it is generally true that global searches in a multi-dimensional surface spanned with trigonometric functions are not easy on optimizers. Although the wavy patterns produced by such functions are beautiful and pleasing to the eye, there are many places for an optimizer to get stuck. Periodicity and especially NIQS-era noise only serve to make matters worse.\n",
    "</div>"
   ]
  },
  {
   "cell_type": "markdown",
   "id": "b9818448",
   "metadata": {},
   "source": [
    "Objective Function\n",
    "----------------------\n",
    "\n",
    "The following couple of cells show how to construct an objective function from the Ansatz. This will be a simplified form of what is used in the included __[hubbard.py](hubbard.py)__ module (which provides caching, an optional noise model, BQSKit optimization, etc., etc.) in order to show and highlight the important structural elements and not be lost in the details.\n",
    "\n",
    "An objective function is implemented as a callback that will receive a set of parameters ($\\vec{\\theta}$) from the optimizer and is expected to return a corresponding value (and possible an uncertainty estimate and/or an evaluation cost) to minimize. Here, the parameters are a set of amplitudes in the \"packed\" form that OpenFermion wants (a flat array of single excitation amplitudes, followed by the ones for double excitations). For convenience, to keep the interface the same such that this implementation can work with an optimizer, we pull in the other relevant parameters from the global space (see __[hubbard.py](hubbard.py)__ for an alternative implementation).\n",
    "\n",
    "As a first step, create a Hubbard Model setup."
   ]
  },
  {
   "cell_type": "code",
   "execution_count": null,
   "id": "c6b9028e",
   "metadata": {},
   "outputs": [],
   "source": [
    "import hubbard as hb\n",
    "import openfermion as of\n",
    "import qiskit as qk\n",
    "import numpy as np\n",
    "import scipy\n",
    "\n",
    "from matplotlib import pyplot as plt\n",
    "\n",
    "# local version of the OpenFermion UCCSD Ansatz that works with Qiskit\n",
    "import uccsd_evolution"
   ]
  },
  {
   "cell_type": "code",
   "execution_count": null,
   "id": "ee83e33b",
   "metadata": {},
   "outputs": [],
   "source": [
    "# Select a model appropriate for the machine used:\n",
    "#    laptop -> use small model\n",
    "#    server -> use medium model\n",
    "\n",
    "MODEL = hb.small_model\n",
    "#MODEL = hb.medium_model\n",
    "\n",
    "# Hubbard model for fermions (Fermi-Hubbard) required parameters\n",
    "xdim, ydim, t, U, chem, magf, periodic, spinless = MODEL()\n",
    "\n",
    "# Number of electrons to add to the system\n",
    "n_electrons_up   = 1\n",
    "n_electrons_down = 1\n",
    "n_electrons = n_electrons_up + n_electrons_down\n",
    "\n",
    "# Total number of \"sites\", with each qubit representing occupied or not\n",
    "spinfactor = spinless and 1 or 2\n",
    "n_qubits = n_sites = xdim * ydim * spinfactor\n",
    "\n",
    "# Create the Hubbard Model for use with Qiskit\n",
    "hubbard_op = hb.hamiltonian_qiskit(\n",
    "    x_dimension        = xdim,\n",
    "    y_dimension        = ydim,\n",
    "    tunneling          = t,\n",
    "    coulomb            = U,\n",
    "    chemical_potential = chem,\n",
    "    magnetic_field     = magf,\n",
    "    periodic           = periodic,\n",
    "    spinless           = spinless,\n",
    "    fermion_transform  = 'jordan-wigner'\n",
    ")"
   ]
  },
  {
   "cell_type": "markdown",
   "id": "edc9572a",
   "metadata": {},
   "source": [
    "We will start with the simplest of objective implementations. The implementation details of the objective are taken as a given here, because this is done using Qiskit's _operator flow_ and thus highly specific to that framework. There is therefore little to be gained from constructing it as an exercise (unless you were trying to learn Qiskit). You should, however, be able to recognize the need for each of the parts and it may be useful, as an exercise, to identify their full implementations in the __[hubbard.py](hubbard.py)__ module.\n",
    "\n",
    "First, setup the configuration, assuming the Jordan-Wigner transform will be used (`Step 1` in the next cell). Create a qubit register of the required number of qubits (taken from the Hamiltonian), then set the representative qubits to $1$ using an X-gate. That is, indices 0, 2, 4, etc. for the spin-up, and indices 1, 3, 5, etc. for the spin-down electrons:\n",
    "\n",
    "```python\n",
    "    reg = qk.QuantumCircuit(hubbard_op.num_qubits)\n",
    "    for i in range(n_electrons_up):\n",
    "        reg.x(i*2)\n",
    "    for i in range(n_electrons_down):\n",
    "        reg.x(i*2+1)\n",
    "```\n",
    "\n",
    "Next, in `Step 2`, we use OpenFermion to construct an evolution operator from the Ansatz, given the input parameters (`packed_amplitudes`, see description above), the number of qubits used, the number of electrons in the system, and the transform to use. In addition, the helper implementation in the __[uccsd_evolution.py](uccsd_evolution.py)__ module converts the result from OpenFermion `QubitOperator`s into Qiskit operator flow:\n",
    "\n",
    "```python\n",
    "    n_electrons = n_electrons_up + n_electrons_down\n",
    "    evolution_op = uccsd_evolution.singlet_evolution(\n",
    "                       packed_amplitudes, hubbard_op.num_qubits, n_electrons,\n",
    "                       fermion_transform=of.transforms.jordan_wigner)\n",
    "```\n",
    "\n",
    "Note: spin is conserved by the singlet generator, which makes the implicit assumption that in filling, up and down indices alternate with up coming first. This behavior can be changed with helpers from the `of.utils.indexing` module (look for the `up_index` and `down_index` functions), e.g. if alternate labeling was used because of chip topology.\n",
    "\n",
    "`Step 3` prepares the Hamiltonian operator to allow measurements, i.e. the calculation of expectation values. Note that it takes a short-cut: rather than splitting the components of the model into Pauli strings and computing them separately, the expectation value of the model is calculated in one step. This is a common approach in simulated examples (where the final state does not actually collapse on \"measurement\"), but this is of course not possible in reality. (See __[hubbard.py](hubbard.py)__ for the full component-based implementation.)\n",
    "\n",
    "Finally, in `Step 4`, Qiskit's operator flow is used to do the actual expectation value calculation.\n",
    "\n",
    "The final, full code is in the cell below."
   ]
  },
  {
   "cell_type": "code",
   "execution_count": null,
   "id": "c9d2578c",
   "metadata": {},
   "outputs": [],
   "source": [
    "def objective(packed_amplitudes):\n",
    "  # Pull in the hamiltonian and its configuration\n",
    "    global hubbard_op, n_electrons_up, n_electrons_down\n",
    "\n",
    "  # Step 1: create the input state (Jordan-Wigner)\n",
    "    reg = qk.QuantumCircuit(hubbard_op.num_qubits)\n",
    "    for i in range(n_electrons_up):\n",
    "        reg.x(i*2)\n",
    "    for i in range(n_electrons_down):\n",
    "        reg.x(i*2+1)\n",
    "\n",
    "    input_state = qk.opflow.CircuitStateFn(reg)\n",
    "        \n",
    "  # Step 2: create the Ansatz operator from OpenFermion's UCCSD\n",
    "    n_electrons = n_electrons_up + n_electrons_down\n",
    "    evolution_op = uccsd_evolution.singlet_evolution(\n",
    "                       packed_amplitudes, hubbard_op.num_qubits, n_electrons,\n",
    "                       fermion_transform=of.transforms.jordan_wigner)\n",
    "        \n",
    "  # Step 3: create an observable from the Hamiltonian\n",
    "    meas_op = qk.opflow.StateFn(hubbard_op, is_measurement=True)\n",
    "        \n",
    "  # Step 4: combine the parts and calculate the expectation\n",
    "    expect_op = qk.opflow.PauliExpectation().convert(\n",
    "                    meas_op @ evolution_op @ input_state\n",
    "                )   \n",
    "    energy = np.real(expect_op.eval())\n",
    "    return energy"
   ]
  },
  {
   "cell_type": "markdown",
   "id": "85fea74b",
   "metadata": {},
   "source": [
    "To try out the `objective` function, we need to figure out the number of parameters. This is fully determined by the Ansatz and thus in turn by the number and type of particles simulated (see the definition of $T(\\vec{\\theta})$ above). As explained in the UCCSD description, it is the implementation that determines how many symmetries are resolved and thus the final number of parameters. We are therefore reduced to asking the implementation for their number."
   ]
  },
  {
   "cell_type": "code",
   "execution_count": null,
   "id": "12e0bafe",
   "metadata": {},
   "outputs": [],
   "source": [
    "npar = uccsd_evolution.singlet_paramsize(n_qubits, n_electrons)\n",
    "print('number of parameters used in the UCCSD Ansatz:', npar)"
   ]
  },
  {
   "cell_type": "markdown",
   "id": "894a0035",
   "metadata": {},
   "source": [
    "With the number of parameters known, an initial set can be created to play with; the exact values do not matter. We can also pull a pre-calculated solution from the model, to confirm that the objective function can generate the correct solution.\n",
    "\n",
    "**Exercise:** evaluate the objective function with some randomly generated array of parameter values, and at the point returned by `MODEL.optimal(n_electrons_up, n_electrons_down, transform='jordan-wigner')`."
   ]
  },
  {
   "cell_type": "code",
   "execution_count": null,
   "id": "88924fd5",
   "metadata": {},
   "outputs": [],
   "source": [
    "# classically calculated exact solution\n",
    "print('exact solution:', hb.exact(hubbard_op, n_electrons_up, n_electrons_down))\n",
    "\n",
    "# value at optimal parameters\n",
    "at_opt = MODEL.optimal(n_electrons_up, n_electrons_down, transform='jordan-wigner')\n",
    "\n",
    "# calculate at random trial point\n",
    "...\n",
    "\n",
    "# calculate at optimal parameters\n",
    "..."
   ]
  },
  {
   "cell_type": "markdown",
   "id": "aec45684",
   "metadata": {},
   "source": [
    "**Optional Exercise:** scan the region around the optimal parameters to show that it is indeed a minimum.\n",
    "\n",
    "**Exercise:** use the above objective function to solve the constructed Hubbard Model, for example using `scipy.optimize` (https://docs.scipy.org/doc/scipy/reference/optimize.html). Compare your results with the pre-calculated ones. Below is another possible example, based on Qiskit."
   ]
  },
  {
   "cell_type": "code",
   "execution_count": null,
   "id": "c4847138",
   "metadata": {},
   "outputs": [],
   "source": [
    "# Optional Exercise: calculate the objective at offsets from optimal\n",
    "d_offset = 0.02\n",
    "n_offsets = 21\n",
    "\n",
    "X = [d_offset*(i-n_offsets//2) for i in range(n_offsets)]\n",
    "y = ...\n",
    "\n",
    "plt.figure()\n",
    "plt.xlabel('delta from optimal')\n",
    "plt.ylabel('expectation')\n",
    "#plt.plot(X, y)\n",
    "#plt.show()\n",
    "\n",
    "# SciPy solution\n",
    "help(scipy.optimize.minimize)\n",
    "result = ...\n",
    "print('SciPy:', result)\n",
    "print()\n",
    "\n",
    "# Alternative, use Qiskit; see its documentation for more:\n",
    "#   https://qiskit-community.github.io/qiskit-translations/id_ID/stubs/qiskit.algorithms.optimizers.html\n",
    "from qiskit.algorithms.optimizers import COBYLA\n",
    "\n",
    "optimizer = COBYLA(maxiter=100)\n",
    "help(optimizer)\n",
    "\n",
    "result = ...\n",
    "\n",
    "print('Qiskit:', result)"
   ]
  },
  {
   "cell_type": "markdown",
   "id": "98dadf5e",
   "metadata": {},
   "source": [
    "Unfortunately, this is not enough. In order to create a circuit to execute on a quantum computer, the matrix exponentials in the evolution operator need to be approximated. For this, a process called _Trotterization_$^{4,5}$ is used. Although we are not considered with time evolution here, the principles are the same for evolution from the computational zero state to the intended trial state.$^{6}$ That is, the evolution is approximated using a number of steps (\"time slices\").\n",
    "\n",
    "Since Trotterization is a basic and common operation, Qiskit operation flow provides it for use. With trotterization, the `objective` becomes as follows (we're adding the number of Trotter steps as an argument for the next exercise)."
   ]
  },
  {
   "cell_type": "code",
   "execution_count": null,
   "id": "f6f965e5",
   "metadata": {},
   "outputs": [],
   "source": [
    "def objective(packed_amplitudes, trotter_steps=2):\n",
    "  # Pull in the hamiltonian and its configuration\n",
    "    global hubbard_op, n_electrons_up, n_electrons_down\n",
    "\n",
    "  # Step 1: create the input state (Jordan-Wigner)\n",
    "    reg = qk.QuantumCircuit(hubbard_op.num_qubits)\n",
    "    for i in range(n_electrons_up):\n",
    "        reg.x(i*2)\n",
    "    for i in range(n_electrons_down):\n",
    "        reg.x(i*2+1)\n",
    "\n",
    "    input_state = qk.opflow.CircuitStateFn(reg)\n",
    "        \n",
    "  # Step 2: create the Ansatz operator from OpenFermion's UCCSD\n",
    "    n_electrons = n_electrons_up + n_electrons_down\n",
    "    evolution_op = uccsd_evolution.singlet_evolution(\n",
    "                       packed_amplitudes, hubbard_op.num_qubits, n_electrons,\n",
    "                       fermion_transform=of.transforms.jordan_wigner)\n",
    "\n",
    "  # Step 2a: Trotterize the Ansatz operator\n",
    "    trotterized_ev_op = qk.opflow.PauliTrotterEvolution(\n",
    "        trotter_mode='trotter', reps=trotter_steps).convert(evolution_op)\n",
    "\n",
    "  # Step 3: create an observable from the Hamiltonian\n",
    "    meas_op = qk.opflow.StateFn(hubbard_op, is_measurement=True)\n",
    "        \n",
    "  # Step 4: combine the parts and calculate the expectation (note the ev_op update)\n",
    "    expect_op = qk.opflow.PauliExpectation().convert(\n",
    "                    meas_op @ trotterized_ev_op @ input_state\n",
    "                )   \n",
    "    energy = np.real(expect_op.eval())\n",
    "    return energy"
   ]
  },
  {
   "cell_type": "markdown",
   "id": "46bc8888",
   "metadata": {},
   "source": [
    "**Exercise:** scan the region around the optimal parameters. Do this for 1-4 Trotter steps. Plot the results. What is the conclusion?"
   ]
  },
  {
   "cell_type": "code",
   "execution_count": null,
   "id": "3f02e386",
   "metadata": {},
   "outputs": [],
   "source": [
    "# adjust the number of offsets from optimal as needed and evaluate the\n",
    "# objective at those offsets (as an alternate, modify the code to change\n",
    "# only a single parameter at a time, rather than all); run over different\n",
    "# ranges of Trotter steps and figure a reasonable number\n",
    "d_offset = 0.02\n",
    "n_offsets = 21\n",
    "n_trotter_steps = 5\n",
    "\n",
    "plt.figure()\n",
    "plt.xlabel('delta from optimal')\n",
    "plt.ylabel('expectation')\n",
    "\n",
    "X = [d_offset*(i-n_offsets//2) for i in range(n_offsets)]\n",
    "\n",
    "for t in range(1, n_trotter_steps+1):\n",
    "    y = ...\n",
    "    # plt.plot(X, y, label='%s Trotter steps' % t)\n",
    "    print('Trotter step %d done' % t)\n",
    "\n",
    "#plt.legend(loc='upper left')\n",
    "#plt.show()"
   ]
  },
  {
   "cell_type": "markdown",
   "id": "7e6bb475",
   "metadata": {},
   "source": [
    "If the produced plot is correct, then there are two important conclusions to be made here:\n",
    "\n",
    "   1. A single Trotter step is insufficient to accurately calculate the minimum: at least 3 are needed. However, there is a trade-off as each additional Trotter steps greatly increases the depth of the circuit. As we will see in the __[Effect of Noise on VQE](hubbard_vqe_noise.ipynb)__ notebook, increased depth will \"lift\" the expectation value due to added noise, counter-acting the benefit of the extra Trotter step.\n",
    "   \n",
    "   2. The optimal parameters for each are reasonably close, meaning that we can safely solve the problem for fewer Trotter steps first (with the benefit of less noise, because of shorter circuits), then refine."
   ]
  },
  {
   "cell_type": "markdown",
   "id": "ba190c55",
   "metadata": {},
   "source": [
    "References\n",
    "-------------\n",
    "\n",
    "[1] https://en.wikipedia.org/wiki/Coupled_cluster\n",
    "<br>[2] Xu et al., \"Test of the unitary coupled-cluster variational quantum eigensolver for a simple strongly correlated condensed-matter system\", Mod. Phys. Lett. B, Vol. 34, Nos. 19 & 20 (2020)\n",
    "<br>[3] https://qiskit.org/textbook/ch-applications/vqe-molecules.html#VQE-Implementation-in-Qiskit\n",
    "<br>[4] H.F. Trotter, \"On the product of semi-groups of operators\" Proc. Am. Math. Phys., 10:545, 1959\n",
    "<br>[5] M. Suzuki, \"Improved Trotter-like formula\", Phys. Lett. A, 180(3):232 – 234, 1993\n",
    "<br>[6] https://arxiv.org/abs/1004.5528, K.L. Brown, et. al.,, \"Using Quantum Computers for Quantum Simulation\""
   ]
  }
 ],
 "metadata": {
  "kernelspec": {
   "display_name": "Python 3 (ipykernel)",
   "language": "python",
   "name": "python3"
  },
  "language_info": {
   "codemirror_mode": {
    "name": "ipython",
    "version": 3
   },
   "file_extension": ".py",
   "mimetype": "text/x-python",
   "name": "python",
   "nbconvert_exporter": "python",
   "pygments_lexer": "ipython3",
   "version": "3.8.11"
  }
 },
 "nbformat": 4,
 "nbformat_minor": 5
}
